{
 "cells": [
  {
   "cell_type": "markdown",
   "metadata": {},
   "source": [
    "# Animacy in German Folktales\n",
    "    \n",
    "This notebook contains the reproducible code examples and analyses for the paper *\\\"Animacy in German Folktales\\\"* submitted in proceedings of CHR 2024: Computational Humanities Research Conference, 2024, Aarhus, Denmark.\n",
    "    \n",
    "**Authors:** Julian Häußler, Janis von Keitz, Evelyn Gius\n",
    "    \n",
    "**Institution:** *fortext lab, Technical University of Darmstadt, Germany*\n",
    "    \n",
    "**Reference:** Häußler, J., von Keitz, J., Gius, E. (2024). *Animacy in German Folktales*. CHR 2024: Computational Humanities Research Conference, December 4 – 6, 2024, Aarhus, Denmark. https://ceur-ws.org/Vol-3834/paper90.pdf.\n",
    "    \n",
    "**GitHub Repository:** https://github.com/forTEXT/Animacy_in_German_Folktales"
   ]
  },
  {
   "cell_type": "markdown",
   "metadata": {},
   "source": [
    "## Notebook 02: Word Embedding Model"
   ]
  },
  {
   "cell_type": "code",
   "execution_count": 1,
   "metadata": {},
   "outputs": [],
   "source": [
    "# imports\n",
    "\n",
    "import glob\n",
    "import os\n",
    "import pickle\n",
    "import re\n",
    "from gensim.models import Word2Vec"
   ]
  },
  {
   "cell_type": "code",
   "execution_count": 2,
   "metadata": {},
   "outputs": [],
   "source": [
    "# read in corpora\n",
    "\n",
    "lst_files = glob.glob(os.path.join(os.getcwd(), r'../../Projekte/Konflikte/Analyseergebnisse/pickled/sentences/Romantik Kernkorpus', \"*.pkl\"))\n",
    "\n",
    "lst_novels_Romantik_Kernkorpus_lemmatized = []\n",
    "\n",
    "for i in range(0,len(lst_files)):\n",
    "    if lst_files[i].endswith(\"_final.pkl\"):\n",
    "        with open(lst_files[i], 'rb') as f:\n",
    "            lst_novels_Romantik_Kernkorpus_lemmatized.append(pickle.load(f))"
   ]
  },
  {
   "cell_type": "code",
   "execution_count": 3,
   "metadata": {},
   "outputs": [],
   "source": [
    "lst_files = glob.glob(os.path.join(os.getcwd(), r'../../Projekte/Konflikte/Analyseergebnisse/pickled/sentences/Romantik Ergänzung I', \"*.pkl\"))\n",
    "\n",
    "lst_novels_Romantik_I_lemmatized = []\n",
    "\n",
    "for i in range(0,len(lst_files)):\n",
    "    if lst_files[i].endswith(\"_final.pkl\"):\n",
    "        with open(lst_files[i], 'rb') as f:\n",
    "            lst_novels_Romantik_I_lemmatized.append(pickle.load(f))"
   ]
  },
  {
   "cell_type": "code",
   "execution_count": 4,
   "metadata": {},
   "outputs": [],
   "source": [
    "lst_files = glob.glob(os.path.join(os.getcwd(), r'../../Projekte/Konflikte/Analyseergebnisse/pickled/sentences/Romantik Ergänzung II', \"*.pkl\"))\n",
    "\n",
    "lst_novels_Romantik_II_lemmatized = []\n",
    "\n",
    "for i in range(0,len(lst_files)):\n",
    "    if lst_files[i].endswith(\"_final.pkl\"):\n",
    "        with open(lst_files[i], 'rb') as f:\n",
    "            lst_novels_Romantik_II_lemmatized.append(pickle.load(f))"
   ]
  },
  {
   "cell_type": "code",
   "execution_count": null,
   "metadata": {},
   "outputs": [],
   "source": []
  },
  {
   "cell_type": "code",
   "execution_count": 5,
   "metadata": {},
   "outputs": [],
   "source": [
    "lst_files = glob.glob(os.path.join(os.getcwd(), r'../../Projekte/Konflikte/Analyseergebnisse/pickled/sentences/Romantik Kernkorpus', \"*.pkl\"))\n",
    "\n",
    "lst_novels_Romantik_Kernkorpus_tokenized = []\n",
    "\n",
    "for i in range(0,len(lst_files)):\n",
    "    if lst_files[i].endswith(\"_sents.pkl\"):\n",
    "        with open(lst_files[i], 'rb') as f:\n",
    "            lst_novels_Romantik_Kernkorpus_tokenized.append(pickle.load(f))"
   ]
  },
  {
   "cell_type": "code",
   "execution_count": 6,
   "metadata": {},
   "outputs": [],
   "source": [
    "lst_files = glob.glob(os.path.join(os.getcwd(), r'../../Projekte/Konflikte/Analyseergebnisse/pickled/sentences/Romantik Ergänzung I', \"*.pkl\"))\n",
    "\n",
    "lst_novels_Romantik_I_tokenized = []\n",
    "\n",
    "for i in range(0,len(lst_files)):\n",
    "    if lst_files[i].endswith(\"_sents.pkl\"):\n",
    "        with open(lst_files[i], 'rb') as f:\n",
    "            lst_novels_Romantik_I_tokenized.append(pickle.load(f))"
   ]
  },
  {
   "cell_type": "code",
   "execution_count": 7,
   "metadata": {},
   "outputs": [],
   "source": [
    "lst_files = glob.glob(os.path.join(os.getcwd(), r'../../Projekte/Konflikte/Analyseergebnisse/pickled/sentences/Romantik Ergänzung II', \"*.pkl\"))\n",
    "\n",
    "lst_novels_Romantik_II_tokenized = []\n",
    "\n",
    "for i in range(0,len(lst_files)):\n",
    "    if lst_files[i].endswith(\"_sents.pkl\"):\n",
    "        with open(lst_files[i], 'rb') as f:\n",
    "            lst_novels_Romantik_II_tokenized.append(pickle.load(f))"
   ]
  },
  {
   "cell_type": "code",
   "execution_count": null,
   "metadata": {},
   "outputs": [],
   "source": []
  },
  {
   "cell_type": "code",
   "execution_count": 8,
   "metadata": {},
   "outputs": [],
   "source": [
    "# create lists of sentences\n",
    "\n",
    "lst_sents_Romantik_Kernkorpus_lemmatized = [sent for novel in lst_novels_Romantik_Kernkorpus_lemmatized for sent in novel]"
   ]
  },
  {
   "cell_type": "code",
   "execution_count": 9,
   "metadata": {},
   "outputs": [],
   "source": [
    "lst_sents_Romantik_I_lemmatized = [sent for novel in lst_novels_Romantik_I_lemmatized for sent in novel]"
   ]
  },
  {
   "cell_type": "code",
   "execution_count": 10,
   "metadata": {},
   "outputs": [],
   "source": [
    "lst_sents_Romantik_II_lemmatized = [sent for novel in lst_novels_Romantik_II_lemmatized for sent in novel]"
   ]
  },
  {
   "cell_type": "code",
   "execution_count": 11,
   "metadata": {},
   "outputs": [
    {
     "data": {
      "text/plain": [
       "105993"
      ]
     },
     "execution_count": 11,
     "metadata": {},
     "output_type": "execute_result"
    }
   ],
   "source": [
    "len(lst_sents_Romantik_Kernkorpus_lemmatized)"
   ]
  },
  {
   "cell_type": "code",
   "execution_count": 12,
   "metadata": {},
   "outputs": [
    {
     "data": {
      "text/plain": [
       "206064"
      ]
     },
     "execution_count": 12,
     "metadata": {},
     "output_type": "execute_result"
    }
   ],
   "source": [
    "len(lst_sents_Romantik_I_lemmatized)"
   ]
  },
  {
   "cell_type": "code",
   "execution_count": 13,
   "metadata": {},
   "outputs": [
    {
     "data": {
      "text/plain": [
       "201170"
      ]
     },
     "execution_count": 13,
     "metadata": {},
     "output_type": "execute_result"
    }
   ],
   "source": [
    "len(lst_sents_Romantik_II_lemmatized)"
   ]
  },
  {
   "cell_type": "code",
   "execution_count": null,
   "metadata": {},
   "outputs": [],
   "source": []
  },
  {
   "cell_type": "code",
   "execution_count": 14,
   "metadata": {},
   "outputs": [],
   "source": [
    "lst_sents_Romantik_Kernkorpus_tokenized = [sent for novel in lst_novels_Romantik_Kernkorpus_tokenized for sent in novel]"
   ]
  },
  {
   "cell_type": "code",
   "execution_count": 15,
   "metadata": {},
   "outputs": [],
   "source": [
    "lst_sents_Romantik_I_tokenized = [sent for novel in lst_novels_Romantik_I_tokenized for sent in novel]"
   ]
  },
  {
   "cell_type": "code",
   "execution_count": 16,
   "metadata": {},
   "outputs": [],
   "source": [
    "lst_sents_Romantik_II_tokenized = [sent for novel in lst_novels_Romantik_II_tokenized for sent in novel]"
   ]
  },
  {
   "cell_type": "code",
   "execution_count": 17,
   "metadata": {},
   "outputs": [
    {
     "data": {
      "text/plain": [
       "105993"
      ]
     },
     "execution_count": 17,
     "metadata": {},
     "output_type": "execute_result"
    }
   ],
   "source": [
    "len(lst_sents_Romantik_Kernkorpus_tokenized)"
   ]
  },
  {
   "cell_type": "code",
   "execution_count": 18,
   "metadata": {},
   "outputs": [
    {
     "data": {
      "text/plain": [
       "206064"
      ]
     },
     "execution_count": 18,
     "metadata": {},
     "output_type": "execute_result"
    }
   ],
   "source": [
    "len(lst_sents_Romantik_I_tokenized)"
   ]
  },
  {
   "cell_type": "code",
   "execution_count": 19,
   "metadata": {},
   "outputs": [
    {
     "data": {
      "text/plain": [
       "201170"
      ]
     },
     "execution_count": 19,
     "metadata": {},
     "output_type": "execute_result"
    }
   ],
   "source": [
    "len(lst_sents_Romantik_II_tokenized)"
   ]
  },
  {
   "cell_type": "code",
   "execution_count": null,
   "metadata": {},
   "outputs": [],
   "source": []
  },
  {
   "cell_type": "code",
   "execution_count": 20,
   "metadata": {},
   "outputs": [],
   "source": [
    "# merge corpus Romantik\n",
    "\n",
    "lst_sents_Romantik_lemmatized = lst_sents_Romantik_Kernkorpus_lemmatized.copy()"
   ]
  },
  {
   "cell_type": "code",
   "execution_count": 21,
   "metadata": {},
   "outputs": [],
   "source": [
    "lst_sents_Romantik_lemmatized.extend(lst_sents_Romantik_I_lemmatized)"
   ]
  },
  {
   "cell_type": "code",
   "execution_count": 22,
   "metadata": {},
   "outputs": [],
   "source": [
    "lst_sents_Romantik_lemmatized.extend(lst_sents_Romantik_II_lemmatized)"
   ]
  },
  {
   "cell_type": "code",
   "execution_count": 23,
   "metadata": {},
   "outputs": [
    {
     "data": {
      "text/plain": [
       "513227"
      ]
     },
     "execution_count": 23,
     "metadata": {},
     "output_type": "execute_result"
    }
   ],
   "source": [
    "len(lst_sents_Romantik_lemmatized)"
   ]
  },
  {
   "cell_type": "code",
   "execution_count": 24,
   "metadata": {},
   "outputs": [
    {
     "data": {
      "text/plain": [
       "['ludwig',\n",
       " 'achim',\n",
       " 'von',\n",
       " 'arnim',\n",
       " 'armut',\n",
       " 'reichtum',\n",
       " 'schuld',\n",
       " 'und',\n",
       " 'buße',\n",
       " 'der',\n",
       " 'gräfin',\n",
       " 'dolores',\n",
       " 'ein',\n",
       " 'wahr',\n",
       " 'geschichte',\n",
       " 'zu',\n",
       " 'der',\n",
       " 'lehrreich',\n",
       " 'unterhaltung',\n",
       " 'armer',\n",
       " 'fräulein',\n",
       " 'zueignung',\n",
       " 'zueignung',\n",
       " 'an',\n",
       " 'der',\n",
       " 'fürst',\n",
       " 'radzivil',\n",
       " 'durchlaucht']"
      ]
     },
     "execution_count": 24,
     "metadata": {},
     "output_type": "execute_result"
    }
   ],
   "source": [
    "lst_sents_Romantik_lemmatized[0]"
   ]
  },
  {
   "cell_type": "code",
   "execution_count": null,
   "metadata": {},
   "outputs": [],
   "source": []
  },
  {
   "cell_type": "code",
   "execution_count": 25,
   "metadata": {},
   "outputs": [],
   "source": [
    "lst_sents_Romantik_tokenized = lst_sents_Romantik_Kernkorpus_tokenized.copy()"
   ]
  },
  {
   "cell_type": "code",
   "execution_count": 26,
   "metadata": {},
   "outputs": [],
   "source": [
    "lst_sents_Romantik_tokenized.extend(lst_sents_Romantik_I_tokenized)"
   ]
  },
  {
   "cell_type": "code",
   "execution_count": 27,
   "metadata": {},
   "outputs": [],
   "source": [
    "lst_sents_Romantik_tokenized.extend(lst_sents_Romantik_II_tokenized)"
   ]
  },
  {
   "cell_type": "code",
   "execution_count": 28,
   "metadata": {},
   "outputs": [
    {
     "data": {
      "text/plain": [
       "513227"
      ]
     },
     "execution_count": 28,
     "metadata": {},
     "output_type": "execute_result"
    }
   ],
   "source": [
    "len(lst_sents_Romantik_tokenized)"
   ]
  },
  {
   "cell_type": "code",
   "execution_count": 29,
   "metadata": {},
   "outputs": [
    {
     "data": {
      "text/plain": [
       "'Ludwig Achim von Arnim Armut, Reichtum, Schuld und Buße der Gräfin Dolores Eine wahre Geschichte zur lehrreichen Unterhaltung armer Fräulein Zueignung Zueignung an des Fürsten Radzivil Durchlaucht'"
      ]
     },
     "execution_count": 29,
     "metadata": {},
     "output_type": "execute_result"
    }
   ],
   "source": [
    "lst_sents_Romantik_tokenized[0]"
   ]
  },
  {
   "cell_type": "code",
   "execution_count": null,
   "metadata": {},
   "outputs": [],
   "source": []
  },
  {
   "cell_type": "code",
   "execution_count": 30,
   "metadata": {},
   "outputs": [],
   "source": [
    "# create models\n",
    "\n",
    "model_Romantik_lemmatized = Word2Vec(lst_sents_Romantik_lemmatized, vector_size=300, window=5,  min_count=5, workers=3, sg=1, epochs=5)"
   ]
  },
  {
   "cell_type": "code",
   "execution_count": 32,
   "metadata": {},
   "outputs": [
    {
     "data": {
      "text/plain": [
       "[('menschenkind', 0.6130830645561218),\n",
       " ('geschopf', 0.6063209176063538),\n",
       " ('kreatur', 0.5917930006980896),\n",
       " ('wüstling', 0.5732919573783875),\n",
       " ('rasse', 0.5711509585380554),\n",
       " ('menschlich', 0.5699660778045654),\n",
       " ('mittelstand', 0.5680449604988098),\n",
       " ('vernünftige', 0.564473569393158),\n",
       " ('seinesgleichen', 0.5536277890205383),\n",
       " ('subjekte', 0.5528882741928101)]"
      ]
     },
     "execution_count": 32,
     "metadata": {},
     "output_type": "execute_result"
    }
   ],
   "source": [
    "model_Romantik_lemmatized.wv.most_similar('mensch')"
   ]
  },
  {
   "cell_type": "code",
   "execution_count": 33,
   "metadata": {},
   "outputs": [
    {
     "data": {
      "text/plain": [
       "[('thier', 0.6578449010848999),\n",
       " ('gewürm', 0.6217717528343201),\n",
       " ('wilde', 0.6214273571968079),\n",
       " ('thiere', 0.6194289922714233),\n",
       " ('vieh', 0.6182639598846436),\n",
       " ('aff', 0.6065509915351868),\n",
       " ('tiger', 0.5968114733695984),\n",
       " ('raubthier', 0.5846810936927795),\n",
       " ('bestium', 0.5677855014801025),\n",
       " ('hungrigen', 0.5629072785377502)]"
      ]
     },
     "execution_count": 33,
     "metadata": {},
     "output_type": "execute_result"
    }
   ],
   "source": [
    "model_Romantik_lemmatized.wv.most_similar('tier')"
   ]
  },
  {
   "cell_type": "code",
   "execution_count": null,
   "metadata": {},
   "outputs": [],
   "source": []
  },
  {
   "cell_type": "code",
   "execution_count": 34,
   "metadata": {},
   "outputs": [],
   "source": [
    "# save models\n",
    "\n",
    "model_Romantik_lemmatized.wv.save('../Data/models/240702_model_Romantik_lemmatized.kv')"
   ]
  },
  {
   "cell_type": "code",
   "execution_count": null,
   "metadata": {},
   "outputs": [],
   "source": []
  },
  {
   "cell_type": "code",
   "execution_count": 35,
   "metadata": {},
   "outputs": [],
   "source": [
    "# get word count\n",
    "\n",
    "lst_words_Romantik_lemmatized = [word for sent in lst_sents_Romantik_lemmatized for word in sent]"
   ]
  },
  {
   "cell_type": "code",
   "execution_count": 37,
   "metadata": {},
   "outputs": [
    {
     "data": {
      "text/plain": [
       "['ludwig',\n",
       " 'achim',\n",
       " 'von',\n",
       " 'arnim',\n",
       " 'armut',\n",
       " 'reichtum',\n",
       " 'schuld',\n",
       " 'und',\n",
       " 'buße',\n",
       " 'der']"
      ]
     },
     "execution_count": 37,
     "metadata": {},
     "output_type": "execute_result"
    }
   ],
   "source": [
    "lst_words_Romantik_lemmatized[:10]"
   ]
  },
  {
   "cell_type": "code",
   "execution_count": 38,
   "metadata": {},
   "outputs": [
    {
     "data": {
      "text/plain": [
       "10702163"
      ]
     },
     "execution_count": 38,
     "metadata": {},
     "output_type": "execute_result"
    }
   ],
   "source": [
    "len(lst_words_Romantik_lemmatized)"
   ]
  },
  {
   "cell_type": "code",
   "execution_count": 39,
   "metadata": {},
   "outputs": [
    {
     "name": "stdout",
     "output_type": "stream",
     "text": [
      "Word2Vec<vocab=44621, vector_size=300, alpha=0.025>\n"
     ]
    }
   ],
   "source": [
    "print(model_Romantik_lemmatized)"
   ]
  },
  {
   "cell_type": "code",
   "execution_count": null,
   "metadata": {},
   "outputs": [],
   "source": []
  }
 ],
 "metadata": {
  "kernelspec": {
   "display_name": "Python 3",
   "language": "python",
   "name": "python3"
  },
  "language_info": {
   "codemirror_mode": {
    "name": "ipython",
    "version": 3
   },
   "file_extension": ".py",
   "mimetype": "text/x-python",
   "name": "python",
   "nbconvert_exporter": "python",
   "pygments_lexer": "ipython3",
   "version": "3.11.4"
  }
 },
 "nbformat": 4,
 "nbformat_minor": 2
}
